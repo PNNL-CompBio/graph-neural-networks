{
 "cells": [
  {
   "cell_type": "code",
   "execution_count": 1,
   "metadata": {},
   "outputs": [],
   "source": [
    "import torch\n",
    "import torch.optim as optim\n",
    "import torch.nn as nn\n",
    "from torch.autograd import Variable\n",
    "\n",
    "import time\n",
    "import argparse\n",
    "import os\n",
    "import numpy as np\n",
    "import sys\n",
    "sys.path.append(os.getcwd())\n",
    "# Our Modules\n",
    "import utils\n",
    "from utils import datasets\n",
    "from models.MPNN import MPNN\n",
    "from models.MPNNv2 import MPNNv2\n",
    "from models.MPNNv3 import MPNNv3\n",
    "from utils.LogMetric import AverageMeter, Logger\n"
   ]
  },
  {
   "cell_type": "code",
   "execution_count": 2,
   "metadata": {},
   "outputs": [
    {
     "name": "stdout",
     "output_type": "stream",
     "text": [
      "Namespace(batch_size=100, dataset='qm9', datasetPath='./data/qm9/dsgdb9nsd/', edge_rep='chem_graph', epochs=50, logPath='./log/qm9/mpnn/', log_interval=20, lr=0.001, lr_decay=0.6, model='MPNNv2', momentum=0.9, no_cuda=False, plotLr=False, plotPath='./plot/qm9/mpnn/', prefetch=2, resume='./checkpoint/qm9/mpnn/', schedule=[0.1, 0.9])\n"
     ]
    }
   ],
   "source": [
    "parser = argparse.ArgumentParser(description='Neural message passing')\n",
    "\n",
    "parser.add_argument('--dataset', default='qm9', help='QM9')\n",
    "parser.add_argument('--edge-rep', default='raw_distance', choices=['raw_distance','chem_graph','distance_bin'] )\n",
    "parser.add_argument('--datasetPath', default='./data/qm9/dsgdb9nsd/', help='dataset path')\n",
    "parser.add_argument('--logPath', default='./log/qm9/mpnn/', help='log path')\n",
    "parser.add_argument('--plotLr', default=False, help='allow plotting the data')\n",
    "parser.add_argument('--plotPath', default='./plot/qm9/mpnn/', help='plot path')\n",
    "parser.add_argument('--resume', default='./checkpoint/qm9/mpnn/',\n",
    "                    help='path to latest checkpoint')\n",
    "# Optimization Options\n",
    "parser.add_argument('--batch-size', type=int, default=100, metavar='N',\n",
    "                    help='Input batch size for training (default: 20)')\n",
    "parser.add_argument('--no-cuda', action='store_true', default=False,\n",
    "                    help='Enables CUDA training')\n",
    "parser.add_argument('--epochs', type=int, default=50, metavar='N',\n",
    "                    help='Number of epochs to train (default: 50)')\n",
    "parser.add_argument('--lr', type=lambda x: restricted_float(x, [1e-5, 1e-2]), default=1e-3, metavar='LR',\n",
    "                    help='Initial learning rate [1e-5, 5e-4] (default: 1e-4)')\n",
    "parser.add_argument('--lr-decay', type=lambda x: restricted_float(x, [.01, 1]), default=0.6, metavar='LR-DECAY',\n",
    "                    help='Learning rate decay factor [.01, 1] (default: 0.6)')\n",
    "parser.add_argument('--schedule', type=list, default=[0.1, 0.9], metavar='S',\n",
    "                    help='Percentage of epochs to start the learning rate decay [0, 1] (default: [0.1, 0.9])')\n",
    "parser.add_argument('--momentum', type=float, default=0.9, metavar='M',\n",
    "                    help='SGD momentum (default: 0.9)')\n",
    "# i/o\n",
    "parser.add_argument('--log-interval', type=int, default=20, metavar='N',\n",
    "                    help='How many batches to wait before logging training status')\n",
    "# Accelerating\n",
    "parser.add_argument('--prefetch', type=int, default=2, help='Pre-fetching threads.')\n",
    "\n",
    "# Model modification\n",
    "parser.add_argument('--model', type=str,help='MPNN model name [MPNN, MPNNv2, MPNNv3]',\n",
    "                        default='MPNN')\n",
    "\n",
    "\n",
    "args = parser.parse_args(['--model','MPNNv2', '--edge-rep','chem_graph'])\n",
    "print(args)\n"
   ]
  },
  {
   "cell_type": "code",
   "execution_count": 3,
   "metadata": {},
   "outputs": [],
   "source": [
    "def restricted_float(x, inter):\n",
    "    x = float(x)\n",
    "    if x < inter[0] or x > inter[1]:\n",
    "        raise argparse.ArgumentTypeError(\"%r not in range [1e-5, 1e-4]\"%(x,))\n",
    "    return x\n"
   ]
  },
  {
   "cell_type": "code",
   "execution_count": 4,
   "metadata": {},
   "outputs": [
    {
     "data": {
      "text/plain": [
       "'./data/qm9/dsgdb9nsd/'"
      ]
     },
     "execution_count": 4,
     "metadata": {},
     "output_type": "execute_result"
    }
   ],
   "source": [
    "\n",
    "best_er1 = 0\n",
    "\n",
    "    # Check if CUDA is enabled\n",
    "args.cuda = not args.no_cuda and torch.cuda.is_available()\n",
    "\n",
    "    # Load data\n",
    "root = args.datasetPath\n",
    "root"
   ]
  },
  {
   "cell_type": "code",
   "execution_count": null,
   "metadata": {},
   "outputs": [],
   "source": [
    "print('Prepare files')\n",
    "files = [f for f in os.listdir(root) if os.path.isfile(os.path.join(root, f))]\n",
    "\n",
    "idx = np.random.permutation(len(files))\n",
    "idx = idx.tolist()\n"
   ]
  }
 ],
 "metadata": {
  "kernelspec": {
   "display_name": "anaconda3-2.5.0",
   "language": "python",
   "name": "anaconda3-2.5.0"
  },
  "language_info": {
   "codemirror_mode": {
    "name": "ipython",
    "version": 3
   },
   "file_extension": ".py",
   "mimetype": "text/x-python",
   "name": "python",
   "nbconvert_exporter": "python",
   "pygments_lexer": "ipython3",
   "version": "3.5.4"
  }
 },
 "nbformat": 4,
 "nbformat_minor": 2
}
